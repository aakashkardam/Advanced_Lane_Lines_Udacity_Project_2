{
 "cells": [
  {
   "cell_type": "code",
   "execution_count": 5,
   "metadata": {},
   "outputs": [],
   "source": [
    "import cv2\n",
    "import numpy as np"
   ]
  },
  {
   "cell_type": "markdown",
   "metadata": {},
   "source": [
    "# Subclips from the video where the problem occurs"
   ]
  },
  {
   "cell_type": "code",
   "execution_count": 7,
   "metadata": {},
   "outputs": [
    {
     "name": "stdout",
     "output_type": "stream",
     "text": [
      "\n",
      "[MoviePy] Running:\n",
      ">>> /home/aakash/anaconda3/bin/ffmpeg -y -i project_video.mp4 -ss 27.00 -t 10.00 -vcodec copy -acodec copy test1.mp4\n",
      "... command successful.\n",
      "\n",
      "[MoviePy] Running:\n",
      ">>> /home/aakash/anaconda3/bin/ffmpeg -y -i project_video.mp4 -ss 38.00 -t 6.00 -vcodec copy -acodec copy test2.mp4\n",
      "... command successful.\n",
      "\n",
      "[MoviePy] Running:\n",
      ">>> /home/aakash/anaconda3/bin/ffmpeg -y -i project_video.mp4 -ss 47.00 -t 3.00 -vcodec copy -acodec copy test1.mp4\n",
      "... command successful.\n"
     ]
    }
   ],
   "source": [
    "from moviepy.video.io.ffmpeg_tools import ffmpeg_extract_subclip\n",
    "ffmpeg_extract_subclip(\"project_video.mp4\", 27, 37, targetname=\"test1.mp4\")\n",
    "ffmpeg_extract_subclip(\"project_video.mp4\", 38, 44, targetname=\"test2.mp4\")\n",
    "ffmpeg_extract_subclip(\"project_video.mp4\", 47, 50, targetname=\"test1.mp4\")"
   ]
  },
  {
   "cell_type": "code",
   "execution_count": null,
   "metadata": {},
   "outputs": [],
   "source": []
  }
 ],
 "metadata": {
  "kernelspec": {
   "display_name": "Python 3",
   "language": "python",
   "name": "python3"
  },
  "language_info": {
   "codemirror_mode": {
    "name": "ipython",
    "version": 3
   },
   "file_extension": ".py",
   "mimetype": "text/x-python",
   "name": "python",
   "nbconvert_exporter": "python",
   "pygments_lexer": "ipython3",
   "version": "3.7.1"
  }
 },
 "nbformat": 4,
 "nbformat_minor": 2
}
